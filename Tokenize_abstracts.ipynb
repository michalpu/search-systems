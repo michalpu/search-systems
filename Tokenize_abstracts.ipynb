{
 "cells": [
  {
   "cell_type": "code",
   "execution_count": 63,
   "metadata": {},
   "outputs": [],
   "source": [
    "import pandas as pd\n",
    "from tokenize import tokenize\n",
    "from nltk.tokenize import word_tokenize\n",
    "from nltk.stem import PorterStemmer\n",
    "from nltk.stem.snowball import SnowballStemmer\n",
    "from nltk.stem import WordNetLemmatizer\n",
    "from nltk.corpus import stopwords\n",
    "import string"
   ]
  },
  {
   "cell_type": "code",
   "execution_count": 25,
   "metadata": {},
   "outputs": [
    {
     "name": "stdout",
     "output_type": "stream",
     "text": [
      "[nltk_data] Downloading package stopwords to\n",
      "[nltk_data]     /Users/michalpurtak/nltk_data...\n",
      "[nltk_data]   Package stopwords is already up-to-date!\n"
     ]
    },
    {
     "data": {
      "text/plain": [
       "True"
      ]
     },
     "execution_count": 25,
     "metadata": {},
     "output_type": "execute_result"
    }
   ],
   "source": [
    "import nltk\n",
    "nltk.download('stopwords')"
   ]
  },
  {
   "cell_type": "code",
   "execution_count": 53,
   "metadata": {},
   "outputs": [],
   "source": [
    "stop_words = set(stopwords.words('english'))"
   ]
  },
  {
   "cell_type": "code",
   "execution_count": 64,
   "metadata": {},
   "outputs": [],
   "source": [
    "books_df = pd.read_csv(\"books.csv\")"
   ]
  },
  {
   "cell_type": "code",
   "execution_count": 56,
   "metadata": {},
   "outputs": [],
   "source": [
    "def remove_stop_words(row):\n",
    "    return [w for w in row['abstract'] if not w in stop_words and not w in string.punctuation]"
   ]
  },
  {
   "cell_type": "code",
   "execution_count": 27,
   "metadata": {},
   "outputs": [],
   "source": [
    "def tokenize(row):\n",
    "    return word_tokenize(row['abstract'])"
   ]
  },
  {
   "cell_type": "code",
   "execution_count": 28,
   "metadata": {},
   "outputs": [],
   "source": [
    "def stemWords(row):\n",
    "    porter = SnowballStemmer(\"english\", ignore_stopwords=True)\n",
    "    words = []\n",
    "    for word in row['abstract']:\n",
    "        words.append(porter.stem(word))\n",
    "    return words"
   ]
  },
  {
   "cell_type": "code",
   "execution_count": 29,
   "metadata": {},
   "outputs": [],
   "source": [
    "tokenized_abstracts = books_df.apply(tokenize, axis=1)"
   ]
  },
  {
   "cell_type": "code",
   "execution_count": 30,
   "metadata": {},
   "outputs": [],
   "source": [
    "books_tokenized = list(zip(books_df['name'], tokenized_abstracts))"
   ]
  },
  {
   "cell_type": "code",
   "execution_count": 31,
   "metadata": {},
   "outputs": [],
   "source": [
    "books_tokenized_df = pd.DataFrame({'name':books_df['name'], 'abstract':tokenized_abstracts})"
   ]
  },
  {
   "cell_type": "code",
   "execution_count": 12,
   "metadata": {},
   "outputs": [],
   "source": [
    "books_tokenized_df.to_csv(\"books_tokenized.csv\")"
   ]
  },
  {
   "cell_type": "code",
   "execution_count": 32,
   "metadata": {},
   "outputs": [],
   "source": [
    "stemmed_abstracts = books_tokenized_df.apply(stemWords, axis = 1)"
   ]
  },
  {
   "cell_type": "code",
   "execution_count": 34,
   "metadata": {},
   "outputs": [
    {
     "data": {
      "text/plain": [
       "0    [1066, and, all, that, :, a, memor, histori, o...\n",
       "1    [1066, and, all, that, :, a, memor, histori, o...\n",
       "2    [2010, :, odyssey, two, is, a, 1982, scienc, f...\n",
       "3    [a, crown, of, sword, (, abbrevi, as, aco, by,...\n",
       "4    [publish, on, 15, april, 1755, and, written, b...\n",
       "dtype: object"
      ]
     },
     "execution_count": 34,
     "metadata": {},
     "output_type": "execute_result"
    }
   ],
   "source": [
    "stemmed_abstracts[:5]"
   ]
  },
  {
   "cell_type": "code",
   "execution_count": 43,
   "metadata": {},
   "outputs": [],
   "source": [
    "books_tokenized_stemmed_df = pd.DataFrame({'name':books_tokenized_df['name'], 'abstract':stemmed_abstracts})"
   ]
  },
  {
   "cell_type": "code",
   "execution_count": 44,
   "metadata": {},
   "outputs": [
    {
     "data": {
      "text/html": [
       "<div>\n",
       "<style scoped>\n",
       "    .dataframe tbody tr th:only-of-type {\n",
       "        vertical-align: middle;\n",
       "    }\n",
       "\n",
       "    .dataframe tbody tr th {\n",
       "        vertical-align: top;\n",
       "    }\n",
       "\n",
       "    .dataframe thead th {\n",
       "        text-align: right;\n",
       "    }\n",
       "</style>\n",
       "<table border=\"1\" class=\"dataframe\">\n",
       "  <thead>\n",
       "    <tr style=\"text-align: right;\">\n",
       "      <th></th>\n",
       "      <th>name</th>\n",
       "      <th>abstract</th>\n",
       "    </tr>\n",
       "  </thead>\n",
       "  <tbody>\n",
       "    <tr>\n",
       "      <th>0</th>\n",
       "      <td>1066 and All That</td>\n",
       "      <td>[1066, and, all, that, :, a, memor, histori, o...</td>\n",
       "    </tr>\n",
       "    <tr>\n",
       "      <th>1</th>\n",
       "      <td>1066 and All That:  A Memorable History of Eng...</td>\n",
       "      <td>[1066, and, all, that, :, a, memor, histori, o...</td>\n",
       "    </tr>\n",
       "    <tr>\n",
       "      <th>2</th>\n",
       "      <td>2010: Odyssey Two</td>\n",
       "      <td>[2010, :, odyssey, two, is, a, 1982, scienc, f...</td>\n",
       "    </tr>\n",
       "    <tr>\n",
       "      <th>3</th>\n",
       "      <td>A Crown of Swords</td>\n",
       "      <td>[a, crown, of, sword, (, abbrevi, as, aco, by,...</td>\n",
       "    </tr>\n",
       "    <tr>\n",
       "      <th>4</th>\n",
       "      <td>A Dictionary of the English Language</td>\n",
       "      <td>[publish, on, 15, april, 1755, and, written, b...</td>\n",
       "    </tr>\n",
       "  </tbody>\n",
       "</table>\n",
       "</div>"
      ],
      "text/plain": [
       "                                                name  \\\n",
       "0                                  1066 and All That   \n",
       "1  1066 and All That:  A Memorable History of Eng...   \n",
       "2                                  2010: Odyssey Two   \n",
       "3                                  A Crown of Swords   \n",
       "4               A Dictionary of the English Language   \n",
       "\n",
       "                                            abstract  \n",
       "0  [1066, and, all, that, :, a, memor, histori, o...  \n",
       "1  [1066, and, all, that, :, a, memor, histori, o...  \n",
       "2  [2010, :, odyssey, two, is, a, 1982, scienc, f...  \n",
       "3  [a, crown, of, sword, (, abbrevi, as, aco, by,...  \n",
       "4  [publish, on, 15, april, 1755, and, written, b...  "
      ]
     },
     "execution_count": 44,
     "metadata": {},
     "output_type": "execute_result"
    }
   ],
   "source": [
    "books_tokenized_stemmed_df[:5]"
   ]
  },
  {
   "cell_type": "code",
   "execution_count": 57,
   "metadata": {},
   "outputs": [],
   "source": [
    "stopwords_removed_abstracts = books_tokenized_stemmed_df.apply(remove_stop_words, axis=1)"
   ]
  },
  {
   "cell_type": "code",
   "execution_count": 58,
   "metadata": {},
   "outputs": [
    {
     "data": {
      "text/plain": [
       "0    [1066, memor, histori, england, compris, part,...\n",
       "1    [1066, memor, histori, england, compris, part,...\n",
       "2    [2010, odyssey, two, 1982, scienc, fiction, no...\n",
       "3    [crown, sword, abbrevi, aco, fan, seventh, boo...\n",
       "4    [publish, 15, april, 1755, written, samuel, jo...\n",
       "dtype: object"
      ]
     },
     "execution_count": 58,
     "metadata": {},
     "output_type": "execute_result"
    }
   ],
   "source": [
    "stopwords_removed_abstracts[:5]"
   ]
  },
  {
   "cell_type": "code",
   "execution_count": 59,
   "metadata": {},
   "outputs": [],
   "source": [
    "books_tokenized_stemmed_df = pd.DataFrame({'name':books_tokenized_df['name'], 'abstract':stopwords_removed_abstracts})"
   ]
  },
  {
   "cell_type": "code",
   "execution_count": 62,
   "metadata": {},
   "outputs": [],
   "source": [
    "books_tokenized_stemmed_df.to_csv(\"books_tokenized_stemmed.csv\")"
   ]
  },
  {
   "cell_type": "code",
   "execution_count": 99,
   "metadata": {},
   "outputs": [],
   "source": [
    "search_index = dict()"
   ]
  },
  {
   "cell_type": "code",
   "execution_count": 69,
   "metadata": {},
   "outputs": [],
   "source": [
    "book_names = books_tokenized_stemmed_df['name']"
   ]
  },
  {
   "cell_type": "code",
   "execution_count": 70,
   "metadata": {},
   "outputs": [],
   "source": [
    "def fillIndexWithWordsFromAbstract(row):\n",
    "    for word in row['abstract']:\n",
    "        if word not in search_index:\n",
    "            search_index[word] = dict()\n",
    "        if row['name'] not in search_index:\n",
    "            search_index[word][row['name']] = 1\n",
    "        else:\n",
    "            search_index[word][row['name']] += 1"
   ]
  },
  {
   "cell_type": "code",
   "execution_count": 90,
   "metadata": {},
   "outputs": [],
   "source": [
    "no_documents = len(book_names)"
   ]
  },
  {
   "cell_type": "code",
   "execution_count": 91,
   "metadata": {},
   "outputs": [
    {
     "data": {
      "text/plain": [
       "0    [1066, memor, histori, england, compris, part,...\n",
       "1    [1066, memor, histori, england, compris, part,...\n",
       "2    [2010, odyssey, two, 1982, scienc, fiction, no...\n",
       "3    [crown, sword, abbrevi, aco, fan, seventh, boo...\n",
       "4    [publish, 15, april, 1755, written, samuel, jo...\n",
       "Name: abstract, dtype: object"
      ]
     },
     "execution_count": 91,
     "metadata": {},
     "output_type": "execute_result"
    }
   ],
   "source": [
    "documents = books_tokenized_stemmed_df['abstract']\n",
    "documents[:5]"
   ]
  },
  {
   "cell_type": "code",
   "execution_count": null,
   "metadata": {},
   "outputs": [],
   "source": []
  },
  {
   "cell_type": "code",
   "execution_count": 100,
   "metadata": {},
   "outputs": [],
   "source": [
    "number_of_doc = 0\n",
    "for document in documents:\n",
    "    for word in document:\n",
    "        if word not in search_index:\n",
    "            search_index[word] = dict()\n",
    "        if book_names[number_of_doc] not in search_index[word]:\n",
    "            search_index[word][book_names[number_of_doc]] = 1\n",
    "        else:\n",
    "            search_index[word][book_names[number_of_doc]] += 1\n",
    "    number_of_doc += 1"
   ]
  },
  {
   "cell_type": "code",
   "execution_count": 89,
   "metadata": {},
   "outputs": [],
   "source": [
    "nothing = books_tokenized_stemmed_df.apply(fillIndexWithWordsFromAbstract, axis=1)"
   ]
  },
  {
   "cell_type": "code",
   "execution_count": 102,
   "metadata": {},
   "outputs": [
    {
     "data": {
      "text/plain": [
       "{'Anne of Green Gables': 1,\n",
       " 'Commentarii de Bello Gallico': 1,\n",
       " '(Commentaries on the Gallic War)': 1,\n",
       " 'How Green Was My Valley': 1,\n",
       " 'Mort': 2,\n",
       " 'Northanger Abbey': 2,\n",
       " 'Stranger in a Strange Land': 1,\n",
       " 'The Book of the Courtier': 1,\n",
       " 'The Hound of the Baskervilles': 1,\n",
       " 'The Salmon of Doubt': 2,\n",
       " 'L’Étranger': 2,\n",
       " 'The Stranger or The Outsider': 2,\n",
       " 'The Transmigration of Timothy Archer': 1,\n",
       " 'The Wasp Factory': 1,\n",
       " 'Wuthering Heights': 1,\n",
       " 'The Great Betrayal': 1,\n",
       " 'The Sands of Time': 1,\n",
       " 'All Fall Down,': 1,\n",
       " 'The Brandon deWilde Story': 1,\n",
       " 'All Fall Down': 1,\n",
       " 'Between Heaven and Hell': 1,\n",
       " 'Blue Murder': 1,\n",
       " 'Closing Time': 1,\n",
       " 'Come as You Are: The Story of Nirvana': 1,\n",
       " 'Death Star': 4,\n",
       " 'Death in Venice': 1,\n",
       " 'Der Tod in Venedig': 1,\n",
       " 'Gangster': 1,\n",
       " 'Joe Cinque’s Consolation: A True Story of Death, Grief and the Law': 2,\n",
       " 'Man Overboard': 1}"
      ]
     },
     "execution_count": 102,
     "metadata": {},
     "output_type": "execute_result"
    }
   ],
   "source": [
    "search_index['death']"
   ]
  },
  {
   "cell_type": "code",
   "execution_count": 103,
   "metadata": {},
   "outputs": [],
   "source": [
    "query = \"science fiction novel\""
   ]
  },
  {
   "cell_type": "code",
   "execution_count": 107,
   "metadata": {},
   "outputs": [
    {
     "data": {
      "text/plain": [
       "['scienc', 'fiction', 'novel']"
      ]
     },
     "execution_count": 107,
     "metadata": {},
     "output_type": "execute_result"
    }
   ],
   "source": [
    "query_tokenized = word_tokenize(query)\n",
    "porter = SnowballStemmer(\"english\", ignore_stopwords=True)\n",
    "query_tokenized_stemmed = []\n",
    "for word in query_tokenized:\n",
    "    query_tokenized_stemmed.append(porter.stem(word))\n",
    "\n",
    "query_tokenized_stemmed"
   ]
  },
  {
   "cell_type": "code",
   "execution_count": 126,
   "metadata": {},
   "outputs": [],
   "source": [
    "def execute_query(query):\n",
    "    try:\n",
    "        query_tokenized = word_tokenize(query)\n",
    "        porter = SnowballStemmer(\"english\", ignore_stopwords=True)\n",
    "        query_tokenized_stemmed = []\n",
    "        for word in query_tokenized:\n",
    "            query_tokenized_stemmed.append(porter.stem(word))\n",
    "        search_results_for_each_term = [set(search_index[term].keys()) for term in query_tokenized_stemmed]\n",
    "        return set.intersection(*search_results_for_each_term)\n",
    "    except KeyError:\n",
    "        return \"no results\""
   ]
  },
  {
   "cell_type": "code",
   "execution_count": 129,
   "metadata": {},
   "outputs": [
    {
     "data": {
      "text/plain": [
       "'no results'"
      ]
     },
     "execution_count": 129,
     "metadata": {},
     "output_type": "execute_result"
    }
   ],
   "source": [
    "execute_query(\"down\")"
   ]
  },
  {
   "cell_type": "code",
   "execution_count": null,
   "metadata": {},
   "outputs": [],
   "source": []
  }
 ],
 "metadata": {
  "kernelspec": {
   "display_name": "Python 3",
   "language": "python",
   "name": "python3"
  },
  "language_info": {
   "codemirror_mode": {
    "name": "ipython",
    "version": 3
   },
   "file_extension": ".py",
   "mimetype": "text/x-python",
   "name": "python",
   "nbconvert_exporter": "python",
   "pygments_lexer": "ipython3",
   "version": "3.7.0"
  }
 },
 "nbformat": 4,
 "nbformat_minor": 2
}
