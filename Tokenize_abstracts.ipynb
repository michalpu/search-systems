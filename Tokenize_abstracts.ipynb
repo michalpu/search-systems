{
 "cells": [
  {
   "cell_type": "code",
   "execution_count": 63,
   "metadata": {},
   "outputs": [],
   "source": [
    "import pandas as pd\n",
    "from tokenize import tokenize\n",
    "from nltk.tokenize import word_tokenize\n",
    "from nltk.stem import PorterStemmer\n",
    "from nltk.stem.snowball import SnowballStemmer\n",
    "from nltk.stem import WordNetLemmatizer\n",
    "from nltk.corpus import stopwords\n",
    "import string"
   ]
  },
  {
   "cell_type": "code",
   "execution_count": 25,
   "metadata": {},
   "outputs": [
    {
     "name": "stdout",
     "output_type": "stream",
     "text": [
      "[nltk_data] Downloading package stopwords to\n",
      "[nltk_data]     /Users/michalpurtak/nltk_data...\n",
      "[nltk_data]   Package stopwords is already up-to-date!\n"
     ]
    },
    {
     "data": {
      "text/plain": [
       "True"
      ]
     },
     "execution_count": 25,
     "metadata": {},
     "output_type": "execute_result"
    }
   ],
   "source": [
    "import nltk\n",
    "nltk.download('stopwords')"
   ]
  },
  {
   "cell_type": "code",
   "execution_count": 53,
   "metadata": {},
   "outputs": [],
   "source": [
    "stop_words = set(stopwords.words('english'))"
   ]
  },
  {
   "cell_type": "code",
   "execution_count": 64,
   "metadata": {},
   "outputs": [],
   "source": [
    "books_df = pd.read_csv(\"books.csv\")"
   ]
  },
  {
   "cell_type": "code",
   "execution_count": 56,
   "metadata": {},
   "outputs": [],
   "source": [
    "def remove_stop_words(row):\n",
    "    return [w for w in row['abstract'] if not w in stop_words and not w in string.punctuation]"
   ]
  },
  {
   "cell_type": "code",
   "execution_count": 27,
   "metadata": {},
   "outputs": [],
   "source": [
    "def tokenize(row):\n",
    "    return word_tokenize(row['abstract'])"
   ]
  },
  {
   "cell_type": "code",
   "execution_count": 28,
   "metadata": {},
   "outputs": [],
   "source": [
    "def stemWords(row):\n",
    "    porter = SnowballStemmer(\"english\", ignore_stopwords=True)\n",
    "    words = []\n",
    "    for word in row['abstract']:\n",
    "        words.append(porter.stem(word))\n",
    "    return words"
   ]
  },
  {
   "cell_type": "code",
   "execution_count": 29,
   "metadata": {},
   "outputs": [],
   "source": [
    "tokenized_abstracts = books_df.apply(tokenize, axis=1)"
   ]
  },
  {
   "cell_type": "code",
   "execution_count": 30,
   "metadata": {},
   "outputs": [],
   "source": [
    "books_tokenized = list(zip(books_df['name'], tokenized_abstracts))"
   ]
  },
  {
   "cell_type": "code",
   "execution_count": 31,
   "metadata": {},
   "outputs": [],
   "source": [
    "books_tokenized_df = pd.DataFrame({'name':books_df['name'], 'abstract':tokenized_abstracts})"
   ]
  },
  {
   "cell_type": "code",
   "execution_count": 12,
   "metadata": {},
   "outputs": [],
   "source": [
    "books_tokenized_df.to_csv(\"books_tokenized.csv\")"
   ]
  },
  {
   "cell_type": "code",
   "execution_count": 32,
   "metadata": {},
   "outputs": [],
   "source": [
    "stemmed_abstracts = books_tokenized_df.apply(stemWords, axis = 1)"
   ]
  },
  {
   "cell_type": "code",
   "execution_count": 34,
   "metadata": {},
   "outputs": [
    {
     "data": {
      "text/plain": [
       "0    [1066, and, all, that, :, a, memor, histori, o...\n",
       "1    [1066, and, all, that, :, a, memor, histori, o...\n",
       "2    [2010, :, odyssey, two, is, a, 1982, scienc, f...\n",
       "3    [a, crown, of, sword, (, abbrevi, as, aco, by,...\n",
       "4    [publish, on, 15, april, 1755, and, written, b...\n",
       "dtype: object"
      ]
     },
     "execution_count": 34,
     "metadata": {},
     "output_type": "execute_result"
    }
   ],
   "source": [
    "stemmed_abstracts[:5]"
   ]
  },
  {
   "cell_type": "code",
   "execution_count": 43,
   "metadata": {},
   "outputs": [],
   "source": [
    "books_tokenized_stemmed_df = pd.DataFrame({'name':books_tokenized_df['name'], 'abstract':stemmed_abstracts})"
   ]
  },
  {
   "cell_type": "code",
   "execution_count": 44,
   "metadata": {},
   "outputs": [
    {
     "data": {
      "text/html": [
       "<div>\n",
       "<style scoped>\n",
       "    .dataframe tbody tr th:only-of-type {\n",
       "        vertical-align: middle;\n",
       "    }\n",
       "\n",
       "    .dataframe tbody tr th {\n",
       "        vertical-align: top;\n",
       "    }\n",
       "\n",
       "    .dataframe thead th {\n",
       "        text-align: right;\n",
       "    }\n",
       "</style>\n",
       "<table border=\"1\" class=\"dataframe\">\n",
       "  <thead>\n",
       "    <tr style=\"text-align: right;\">\n",
       "      <th></th>\n",
       "      <th>name</th>\n",
       "      <th>abstract</th>\n",
       "    </tr>\n",
       "  </thead>\n",
       "  <tbody>\n",
       "    <tr>\n",
       "      <th>0</th>\n",
       "      <td>1066 and All That</td>\n",
       "      <td>[1066, and, all, that, :, a, memor, histori, o...</td>\n",
       "    </tr>\n",
       "    <tr>\n",
       "      <th>1</th>\n",
       "      <td>1066 and All That:  A Memorable History of Eng...</td>\n",
       "      <td>[1066, and, all, that, :, a, memor, histori, o...</td>\n",
       "    </tr>\n",
       "    <tr>\n",
       "      <th>2</th>\n",
       "      <td>2010: Odyssey Two</td>\n",
       "      <td>[2010, :, odyssey, two, is, a, 1982, scienc, f...</td>\n",
       "    </tr>\n",
       "    <tr>\n",
       "      <th>3</th>\n",
       "      <td>A Crown of Swords</td>\n",
       "      <td>[a, crown, of, sword, (, abbrevi, as, aco, by,...</td>\n",
       "    </tr>\n",
       "    <tr>\n",
       "      <th>4</th>\n",
       "      <td>A Dictionary of the English Language</td>\n",
       "      <td>[publish, on, 15, april, 1755, and, written, b...</td>\n",
       "    </tr>\n",
       "  </tbody>\n",
       "</table>\n",
       "</div>"
      ],
      "text/plain": [
       "                                                name  \\\n",
       "0                                  1066 and All That   \n",
       "1  1066 and All That:  A Memorable History of Eng...   \n",
       "2                                  2010: Odyssey Two   \n",
       "3                                  A Crown of Swords   \n",
       "4               A Dictionary of the English Language   \n",
       "\n",
       "                                            abstract  \n",
       "0  [1066, and, all, that, :, a, memor, histori, o...  \n",
       "1  [1066, and, all, that, :, a, memor, histori, o...  \n",
       "2  [2010, :, odyssey, two, is, a, 1982, scienc, f...  \n",
       "3  [a, crown, of, sword, (, abbrevi, as, aco, by,...  \n",
       "4  [publish, on, 15, april, 1755, and, written, b...  "
      ]
     },
     "execution_count": 44,
     "metadata": {},
     "output_type": "execute_result"
    }
   ],
   "source": [
    "books_tokenized_stemmed_df[:5]"
   ]
  },
  {
   "cell_type": "code",
   "execution_count": 57,
   "metadata": {},
   "outputs": [],
   "source": [
    "stopwords_removed_abstracts = books_tokenized_stemmed_df.apply(remove_stop_words, axis=1)"
   ]
  },
  {
   "cell_type": "code",
   "execution_count": 58,
   "metadata": {},
   "outputs": [
    {
     "data": {
      "text/plain": [
       "0    [1066, memor, histori, england, compris, part,...\n",
       "1    [1066, memor, histori, england, compris, part,...\n",
       "2    [2010, odyssey, two, 1982, scienc, fiction, no...\n",
       "3    [crown, sword, abbrevi, aco, fan, seventh, boo...\n",
       "4    [publish, 15, april, 1755, written, samuel, jo...\n",
       "dtype: object"
      ]
     },
     "execution_count": 58,
     "metadata": {},
     "output_type": "execute_result"
    }
   ],
   "source": [
    "stopwords_removed_abstracts[:5]"
   ]
  },
  {
   "cell_type": "code",
   "execution_count": 59,
   "metadata": {},
   "outputs": [],
   "source": [
    "books_tokenized_stemmed_df = pd.DataFrame({'name':books_tokenized_df['name'], 'abstract':stopwords_removed_abstracts})"
   ]
  },
  {
   "cell_type": "code",
   "execution_count": 62,
   "metadata": {},
   "outputs": [],
   "source": [
    "books_tokenized_stemmed_df.to_csv(\"books_tokenized_stemmed.csv\")"
   ]
  },
  {
   "cell_type": "code",
   "execution_count": 191,
   "metadata": {},
   "outputs": [],
   "source": [
    "search_index = dict()"
   ]
  },
  {
   "cell_type": "code",
   "execution_count": 69,
   "metadata": {},
   "outputs": [],
   "source": [
    "book_names = books_tokenized_stemmed_df['name']"
   ]
  },
  {
   "cell_type": "code",
   "execution_count": 70,
   "metadata": {},
   "outputs": [],
   "source": [
    "def fillIndexWithWordsFromAbstract(row):\n",
    "    for word in row['abstract']:\n",
    "        if word not in search_index:\n",
    "            search_index[word] = dict()\n",
    "        if row['name'] not in search_index:\n",
    "            search_index[word][row['name']] = 1\n",
    "        else:\n",
    "            search_index[word][row['name']] += 1"
   ]
  },
  {
   "cell_type": "code",
   "execution_count": 90,
   "metadata": {},
   "outputs": [],
   "source": [
    "no_documents = len(book_names)"
   ]
  },
  {
   "cell_type": "code",
   "execution_count": 91,
   "metadata": {},
   "outputs": [
    {
     "data": {
      "text/plain": [
       "0    [1066, memor, histori, england, compris, part,...\n",
       "1    [1066, memor, histori, england, compris, part,...\n",
       "2    [2010, odyssey, two, 1982, scienc, fiction, no...\n",
       "3    [crown, sword, abbrevi, aco, fan, seventh, boo...\n",
       "4    [publish, 15, april, 1755, written, samuel, jo...\n",
       "Name: abstract, dtype: object"
      ]
     },
     "execution_count": 91,
     "metadata": {},
     "output_type": "execute_result"
    }
   ],
   "source": [
    "documents = books_tokenized_stemmed_df['abstract']\n",
    "documents[:5]"
   ]
  },
  {
   "cell_type": "code",
   "execution_count": null,
   "metadata": {},
   "outputs": [],
   "source": []
  },
  {
   "cell_type": "code",
   "execution_count": 192,
   "metadata": {},
   "outputs": [],
   "source": [
    "number_of_doc = 0\n",
    "for document in documents:\n",
    "    for word in document:\n",
    "        if word not in search_index:\n",
    "            search_index[word] = dict()\n",
    "        if book_names[number_of_doc] not in search_index[word]:\n",
    "            search_index[word][book_names[number_of_doc]] = 1\n",
    "        else:\n",
    "            search_index[word][book_names[number_of_doc]] += 1\n",
    "    number_of_doc += 1"
   ]
  },
  {
   "cell_type": "code",
   "execution_count": 103,
   "metadata": {},
   "outputs": [],
   "source": [
    "query = \"science fiction novel\""
   ]
  },
  {
   "cell_type": "code",
   "execution_count": 159,
   "metadata": {},
   "outputs": [],
   "source": [
    "def get_max_freq(document):\n",
    "    max_freq = 0\n",
    "    for key in search_index.keys():\n",
    "        try:\n",
    "            frequency = search_index[key][document]\n",
    "        except KeyError:\n",
    "            continue\n",
    "        if frequency > max_freq:\n",
    "            max_freq = frequency\n",
    "    return max_freq"
   ]
  },
  {
   "cell_type": "code",
   "execution_count": 165,
   "metadata": {},
   "outputs": [
    {
     "data": {
      "text/plain": [
       "3"
      ]
     },
     "execution_count": 165,
     "metadata": {},
     "output_type": "execute_result"
    }
   ],
   "source": [
    "get_max_freq(\"Blue Murder\")"
   ]
  },
  {
   "cell_type": "code",
   "execution_count": 172,
   "metadata": {},
   "outputs": [],
   "source": [
    "from math import log10\n",
    "def get_idf(term):\n",
    "    n_t = len(list(search_index[term]))\n",
    "    n = len(book_names)\n",
    "    return log10(n_t/n)\n",
    "    "
   ]
  },
  {
   "cell_type": "code",
   "execution_count": 173,
   "metadata": {},
   "outputs": [
    {
     "data": {
      "text/plain": [
       "-1.853871964321762"
      ]
     },
     "execution_count": 173,
     "metadata": {},
     "output_type": "execute_result"
    }
   ],
   "source": [
    "get_idf(\"blue\")"
   ]
  },
  {
   "cell_type": "code",
   "execution_count": 178,
   "metadata": {
    "scrolled": true
   },
   "outputs": [],
   "source": [
    "def calculate_tf_idf(term, document):\n",
    "    freq = search_index[term][document]\n",
    "    tf = freq/get_max_freq(document)\n",
    "    idf = get_idf(term)\n",
    "    return tf*idf\n",
    "    "
   ]
  },
  {
   "cell_type": "code",
   "execution_count": 180,
   "metadata": {},
   "outputs": [
    {
     "data": {
      "text/plain": [
       "-0.03379600091958039"
      ]
     },
     "execution_count": 180,
     "metadata": {},
     "output_type": "execute_result"
    }
   ],
   "source": [
    "calculate_tf_idf(\"novel\", \"Death Star\")"
   ]
  },
  {
   "cell_type": "code",
   "execution_count": 194,
   "metadata": {},
   "outputs": [
    {
     "data": {
      "text/plain": [
       "dict"
      ]
     },
     "execution_count": 194,
     "metadata": {},
     "output_type": "execute_result"
    }
   ],
   "source": [
    "import copy\n",
    "search_index_tf_idf = copy.deepcopy(search_index)\n",
    "type(search_index_tf_idf)"
   ]
  },
  {
   "cell_type": "code",
   "execution_count": 195,
   "metadata": {},
   "outputs": [],
   "source": [
    "for term in search_index_tf_idf.keys():\n",
    "    for document in search_index_tf_idf[term]:\n",
    "        freq = search_index_tf_idf[term][document]\n",
    "        search_index_tf_idf[term][document] = (freq, calculate_tf_idf(term, document))"
   ]
  },
  {
   "cell_type": "code",
   "execution_count": 207,
   "metadata": {},
   "outputs": [
    {
     "data": {
      "text/plain": [
       "-0.926935982160881"
      ]
     },
     "execution_count": 207,
     "metadata": {},
     "output_type": "execute_result"
    }
   ],
   "source": [
    "search_index_tf_idf[\"blue\"]['Between Planets'][1]"
   ]
  },
  {
   "cell_type": "code",
   "execution_count": 217,
   "metadata": {},
   "outputs": [],
   "source": [
    "def execute_query(query):\n",
    "    try:\n",
    "        query_tokenized = word_tokenize(query)\n",
    "        porter = SnowballStemmer(\"english\", ignore_stopwords=True)\n",
    "        query_tokenized_stemmed = []\n",
    "        \n",
    "        for word in query_tokenized:\n",
    "            query_tokenized_stemmed.append(porter.stem(word))\n",
    "        search_results_for_each_term_tf_idf = [search_index_tf_idf[term] for term in query_tokenized_stemmed]\n",
    "        search_results_for_each_term_tf_idf_set = [set(search_index_tf_idf[term].keys()) for term in query_tokenized_stemmed]\n",
    "        search_results_for_query = set.intersection(*search_results_for_each_term_tf_idf_set)\n",
    "        \n",
    "        results = []\n",
    "        for document in search_results_for_query:\n",
    "            tf_idf = 0\n",
    "            for term_search_result in search_results_for_each_term_tf_idf:\n",
    "                tf_idf += term_search_result[document][1]\n",
    "            results.append((document, tf_idf))\n",
    "        results = sorted(results, key = lambda x: x[1], reverse=True)\n",
    "        return results\n",
    "    except KeyError:\n",
    "        return \"no results\""
   ]
  },
  {
   "cell_type": "code",
   "execution_count": 218,
   "metadata": {},
   "outputs": [
    {
     "data": {
      "text/plain": [
       "[('Death Star', -0.2366057390712093),\n",
       " ('Space Cadet', -0.33124803469969305),\n",
       " (\"Ender's Game\", -0.40866730719838584),\n",
       " ('Heart of Gold', -0.41406004337461627),\n",
       " ('The Invisible Man', -0.41406004337461627),\n",
       " ('Fiasko', -0.42587683727451814),\n",
       " ('Hunted', -0.42587683727451814),\n",
       " ('Fiasco', -0.42587683727451814),\n",
       " ('The Illuminatus! Trilogy', -0.4516908871648183),\n",
       " ('The Last Man', -0.473203044983882),\n",
       " ('Ragamuffin', -0.5205056398493433),\n",
       " ('2010: Odyssey Two', -0.5205056398493433),\n",
       " ('The Taint', -0.5520800578328217),\n",
       " ('The Shockwave Rider', -0.5520800578328217),\n",
       " ('Headlong', -0.5914890482024133),\n",
       " ('Cowl', -0.5914890482024133),\n",
       " ('Consider Phlebas', -0.5914890482024133),\n",
       " ('Vingt mille lieues sous les mers', -0.5914890482024133),\n",
       " ('Larger than Life', -0.6309373933118425),\n",
       " ('Kaleidoscope', -0.6309373933118425),\n",
       " ('Love and War', -0.6474080428711634),\n",
       " ('Stranger in a Strange Land', -0.7097947287908635),\n",
       " ('The Diamond Age', -0.7097947287908635),\n",
       " ('Now Wait for Last Year', -0.7097947287908635),\n",
       " ('To Sail Beyond the Sunset', -0.7097947287908635),\n",
       " ('Sanctuary', -0.7097947287908635),\n",
       " ('The Wanderer', -0.7571248719742112),\n",
       " ('The Martian Chronicles', -0.7689770851399669),\n",
       " ('Starman Jones', -0.8281200867492325),\n",
       " ('Blue Light', -0.8281200867492325),\n",
       " ('Winner Takes All', -0.8281200867492325),\n",
       " ('Between Planets', -0.8281200867492325),\n",
       " ('Tunnel in the Sky', -0.8281200867492325),\n",
       " ('I Will Fear No Evil', -0.8281200867492325),\n",
       " ('Time for the Stars', -0.8281200867492325),\n",
       " ('A Matter of Time', -0.9212987338272303),\n",
       " (\"Methuselah's Children\", -0.9313416762834438),\n",
       " ('The Wasp Factory', -0.946406089967764),\n",
       " ('The Forge of God', -0.946406089967764),\n",
       " ('Inversions', -0.946406089967764),\n",
       " ('The Cat Who Walks Through Walls', -0.946406089967764),\n",
       " ('Boneshaker', -0.946406089967764),\n",
       " ('Emergence', -0.946406089967764),\n",
       " ('Dragonflight', -1.1041601156656433),\n",
       " ('Camouflage', -1.1830174511446643),\n",
       " ('The Moon Is a Harsh Mistress', -1.1830174511446643),\n",
       " ('Rocket Ship Galileo', -1.1830174511446643),\n",
       " ('The Dispossessed', -1.263662097522314),\n",
       " ('Blue Box', -1.263662097522314),\n",
       " ('Podkayne of Mars', -1.3013231317331146),\n",
       " ('Sixth Column', -1.5379541702799338),\n",
       " ('Beyond This Horizon', -1.5379541702799338),\n",
       " ('Citizen of the Galaxy', -1.5379541702799338),\n",
       " ('Blood Music', -1.5970971718891995),\n",
       " ('Exogenesis: Perils of Rebirth', -1.656240173498465),\n",
       " ('HardWired', -1.656240173498465),\n",
       " ('The Puppet Masters', -1.656240173498465),\n",
       " ('Face of the Enemy', -1.656240173498465),\n",
       " ('Glory Road', -1.656240173498465),\n",
       " ('The Star Beast', -1.656240173498465),\n",
       " ('Double Star', -1.656240173498465)]"
      ]
     },
     "execution_count": 218,
     "metadata": {},
     "output_type": "execute_result"
    }
   ],
   "source": [
    "execute_query(\"science fiction novel\")"
   ]
  }
 ],
 "metadata": {
  "kernelspec": {
   "display_name": "Python 3",
   "language": "python",
   "name": "python3"
  },
  "language_info": {
   "codemirror_mode": {
    "name": "ipython",
    "version": 3
   },
   "file_extension": ".py",
   "mimetype": "text/x-python",
   "name": "python",
   "nbconvert_exporter": "python",
   "pygments_lexer": "ipython3",
   "version": "3.7.0"
  }
 },
 "nbformat": 4,
 "nbformat_minor": 2
}
